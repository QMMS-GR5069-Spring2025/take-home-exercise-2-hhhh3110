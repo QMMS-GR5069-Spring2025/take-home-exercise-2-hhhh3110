{
 "cells": [
  {
   "cell_type": "code",
   "execution_count": 0,
   "metadata": {
    "application/vnd.databricks.v1+cell": {
     "cellMetadata": {
      "byteLimit": 2048000,
      "rowLimit": 10000
     },
     "inputWidgets": {},
     "nuid": "3edab1ad-c7aa-4603-9036-a00c92688653",
     "showTitle": false,
     "tableResultSettingsMap": {},
     "title": ""
    }
   },
   "outputs": [],
   "source": [
    "import pandas as pd\n",
    "from datetime import datetime\n",
    "from pyspark.sql.functions import avg, countDistinct, to_date, datediff, col, max, row_number, when\n",
    "from pyspark.sql.window import Window"
   ]
  },
  {
   "cell_type": "code",
   "execution_count": 0,
   "metadata": {
    "application/vnd.databricks.v1+cell": {
     "cellMetadata": {
      "byteLimit": 2048000,
      "rowLimit": 10000
     },
     "inputWidgets": {},
     "nuid": "29da9b99-7883-46c7-a926-5708538f7b31",
     "showTitle": false,
     "tableResultSettingsMap": {},
     "title": ""
    }
   },
   "outputs": [],
   "source": [
    "base_path = \"s3://columbia-gr5069-main/raw/\"\n",
    "df_pit = spark.read.option(\"header\", True).csv(base_path + \"pit_stops.csv\")\n",
    "df_results = spark.read.option(\"header\", True).csv(base_path + \"results.csv\")\n",
    "df_drivers = spark.read.option(\"header\", True).csv(base_path + \"drivers.csv\")\n",
    "df_races = spark.read.option(\"header\", True).csv(base_path + \"races.csv\")\n",
    "df_lap_times = spark.read.option(\"header\", True).csv(base_path + \"lap_times.csv\")"
   ]
  },
  {
   "cell_type": "code",
   "execution_count": 0,
   "metadata": {
    "application/vnd.databricks.v1+cell": {
     "cellMetadata": {
      "byteLimit": 2048000,
      "rowLimit": 10000
     },
     "inputWidgets": {},
     "nuid": "8cb27f89-1a93-4cee-b457-425467dc1fe2",
     "showTitle": false,
     "tableResultSettingsMap": {},
     "title": ""
    }
   },
   "outputs": [
    {
     "output_type": "stream",
     "name": "stdout",
     "output_type": "stream",
     "text": [
      "Q1: Average Pit Stop Time\n+------+--------+------------------+\n|raceId|driverId|      avg_pit_time|\n+------+--------+------------------+\n|   843|      39|           26049.0|\n|   844|      67|21976.333333333332|\n|   844|       2|          21743.75|\n|   844|      20|          20402.25|\n|   849|      17|           24416.0|\n|   856|      20|           20077.5|\n|   869|     819|           18606.0|\n|   873|     818|           30198.5|\n|   876|      20|           20707.0|\n|   878|       3|           21346.0|\n|   880|     154|           22302.0|\n|   887|       8|           24710.0|\n|   909|      18|           20247.0|\n|   911|     822|           22972.5|\n|   957|     837|           30066.5|\n|   958|     822|           21554.5|\n|   970|       8|           20569.5|\n|   986|       1|           26299.0|\n|  1009|     844|           21828.0|\n|  1009|     154|           22354.0|\n+------+--------+------------------+\nonly showing top 20 rows\n\n"
     ]
    }
   ],
   "source": [
    "# Q1: Average pit stop time per driver per race\n",
    "avg_pit = df_pit.groupBy(\"raceId\", \"driverId\") \\\n",
    "                .agg(avg(\"milliseconds\").alias(\"avg_pit_time\"))\n",
    "\n",
    "print(\"Q1: Average Pit Stop Time\")\n",
    "avg_pit.show()"
   ]
  },
  {
   "cell_type": "code",
   "execution_count": 0,
   "metadata": {
    "application/vnd.databricks.v1+cell": {
     "cellMetadata": {
      "byteLimit": 2048000,
      "rowLimit": 10000
     },
     "inputWidgets": {},
     "nuid": "128a446b-11b1-409f-9cdc-4807faadf46c",
     "showTitle": false,
     "tableResultSettingsMap": {},
     "title": ""
    }
   },
   "outputs": [
    {
     "output_type": "stream",
     "name": "stdout",
     "output_type": "stream",
     "text": [
      "Q2: Average Pit Time Ranked by Position\n+------+--------+------------+-------------+\n|raceId|driverId|avg_pit_time|positionOrder|\n+------+--------+------------+-------------+\n|  1000|       1|     21480.0|            1|\n|  1000|     154|     21733.0|           10|\n|  1000|     843|     21831.0|           11|\n|  1000|     807|     22308.0|           12|\n|  1000|     839|     22258.0|           13|\n|  1000|     815|     22561.0|           14|\n|  1000|     828|     22640.0|           15|\n|  1000|     845|     21509.0|           16|\n|  1000|     840|     21291.0|           17|\n|  1000|     838|     21732.0|           18|\n|  1000|      20|     23111.0|            2|\n|  1000|       8|     23150.0|            3|\n|  1000|     817|     21364.0|            4|\n|  1000|     822|     21337.0|            5|\n|  1000|     842|     21684.0|            6|\n|  1000|     825|     25126.0|            7|\n|  1000|       4|     21795.0|            8|\n|  1000|     832|     21914.0|            9|\n|  1001|      20|     20917.5|            1|\n|  1001|     828|     21134.5|           10|\n+------+--------+------------+-------------+\nonly showing top 20 rows\n\n"
     ]
    }
   ],
   "source": [
    "# Q2: Rank by race winner\n",
    "df_results_selected = df_results.select(\"raceId\", \"driverId\", \"positionOrder\")\n",
    "\n",
    "pit_result = avg_pit.join(df_results_selected, on=[\"raceId\", \"driverId\"], how=\"inner\")\n",
    "pit_result_sorted = pit_result.orderBy([\"raceId\", \"positionOrder\"])\n",
    "print(\"Q2: Average Pit Time Ranked by Position\")\n",
    "pit_result_sorted.show()\n"
   ]
  },
  {
   "cell_type": "code",
   "execution_count": 0,
   "metadata": {
    "application/vnd.databricks.v1+cell": {
     "cellMetadata": {
      "byteLimit": 2048000,
      "rowLimit": 10000
     },
     "inputWidgets": {},
     "nuid": "fa60d835-7dc7-45c0-91a8-abd2382956a4",
     "showTitle": false,
     "tableResultSettingsMap": {},
     "title": ""
    }
   },
   "outputs": [
    {
     "output_type": "stream",
     "name": "stdout",
     "output_type": "stream",
     "text": [
      "\nQ3: Fill missing driver codes\n\nQ3: Fill missing driver codes\n+--------+----------+----+\n|driverId|   surname|code|\n+--------+----------+----+\n|       1|  Hamilton| HAM|\n|       2|  Heidfeld| HEI|\n|       3|   Rosberg| ROS|\n|       4|    Alonso| ALO|\n|       5|Kovalainen| KOV|\n+--------+----------+----+\nonly showing top 5 rows\n\n"
     ]
    }
   ],
   "source": [
    "# Q3: Fill missing driver codes\n",
    "print(\"\\nQ3: Fill missing driver codes\")\n",
    "print(\"\\nQ3: Fill missing driver codes\")\n",
    "from pyspark.sql.functions import expr\n",
    "\n",
    "# Fill missing 'code' with first 3 letters of surname\n",
    "df_drivers = df_drivers.withColumn(\n",
    "    \"code\",\n",
    "    when(col(\"code\").isNull(), expr(\"upper(substr(surname, 1, 3))\"))\n",
    "    .otherwise(col(\"code\"))\n",
    ")\n",
    "df_drivers.select(\"driverId\", \"surname\", \"code\").show(5)\n",
    "\n"
   ]
  },
  {
   "cell_type": "code",
   "execution_count": 0,
   "metadata": {
    "application/vnd.databricks.v1+cell": {
     "cellMetadata": {
      "byteLimit": 2048000,
      "rowLimit": 10000
     },
     "inputWidgets": {},
     "nuid": "2c5493e6-6f43-4eaa-aaf7-7ac3847a44e5",
     "showTitle": false,
     "tableResultSettingsMap": {},
     "title": ""
    }
   },
   "outputs": [
    {
     "output_type": "stream",
     "name": "stdout",
     "output_type": "stream",
     "text": [
      "\nQ4: Youngest drivers per race\n+------+--------+----+\n|raceId|driverId| age|\n+------+--------+----+\n|     1|      67|7454|\n|    10|     153|7065|\n|   100|      32|7825|\n|  1000|     840|7213|\n|  1001|     840|7241|\n+------+--------+----+\nonly showing top 5 rows\n\n\nQ4: Oldest drivers per race\n+------+--------+-----+\n|raceId|driverId|  age|\n+------+--------+-----+\n|     1|      22|13459|\n|    10|      22|13578|\n|   100|      44|13827|\n|  1000|       8|14165|\n|  1001|       8|14193|\n+------+--------+-----+\nonly showing top 5 rows\n\n"
     ]
    }
   ],
   "source": [
    "# Q4: Youngest and oldest driver per race\n",
    "df_drivers = df_drivers.withColumn(\"dob\", to_date(\"dob\"))\n",
    "df_races = df_races.withColumn(\"date\", to_date(\"date\"))\n",
    "\n",
    "df_age = df_results.join(df_drivers, \"driverId\") \\\n",
    "                 .join(df_races.select(\"raceId\", \"date\"), \"raceId\") \\\n",
    "                 .withColumn(\"age\", datediff(col(\"date\"), col(\"dob\")))\n",
    "\n",
    "window_young = Window.partitionBy(\"raceId\").orderBy(col(\"age\").asc())\n",
    "window_old = Window.partitionBy(\"raceId\").orderBy(col(\"age\").desc())\n",
    "\n",
    "youngest = df_age.withColumn(\"rn\", row_number().over(window_young)).filter(\"rn = 1\")\n",
    "oldest = df_age.withColumn(\"rn\", row_number().over(window_old)).filter(\"rn = 1\")\n",
    "\n",
    "print(\"\\nQ4: Youngest drivers per race\")\n",
    "youngest.select(\"raceId\", \"driverId\", \"age\").show(5)\n",
    "\n",
    "print(\"\\nQ4: Oldest drivers per race\")\n",
    "oldest.select(\"raceId\", \"driverId\", \"age\").show(5)\n"
   ]
  },
  {
   "cell_type": "code",
   "execution_count": 0,
   "metadata": {
    "application/vnd.databricks.v1+cell": {
     "cellMetadata": {
      "byteLimit": 2048000,
      "rowLimit": 10000
     },
     "inputWidgets": {},
     "nuid": "c261a7e1-0d7d-48ca-82d7-255439699861",
     "showTitle": false,
     "tableResultSettingsMap": {},
     "title": ""
    }
   },
   "outputs": [
    {
     "output_type": "stream",
     "name": "stdout",
     "output_type": "stream",
     "text": [
      "\nQ5: Drivers with most wins\n+--------+-----+\n|driverId|count|\n+--------+-----+\n|       1|  103|\n|      30|   91|\n|      20|   53|\n|     117|   51|\n|     830|   45|\n+--------+-----+\nonly showing top 5 rows\n\n\nQ5: Drivers with most last-place finishes\n+--------+-----+\n|driverId|count|\n+--------+-----+\n|     807|   18|\n|       8|   16|\n|     154|   15|\n|      15|   14|\n|       4|   14|\n+--------+-----+\nonly showing top 5 rows\n\n"
     ]
    }
   ],
   "source": [
    "# Q5: Most wins (positionOrder == 1) and most last places\n",
    "df_results = df_results.withColumn(\"positionOrder\", col(\"positionOrder\").cast(\"int\"))\n",
    "wins = df_results.filter(col(\"positionOrder\") == 1) \\\n",
    "                .groupBy(\"driverId\") \\\n",
    "                .count() \\\n",
    "                .orderBy(col(\"count\").desc())\n",
    "print(\"\\nQ5: Drivers with most wins\")\n",
    "wins.show(5)\n",
    "\n",
    "last_place_per_race = df_results.groupBy(\"raceId\").agg(max(\"positionOrder\").alias(\"last_pos\"))\n",
    "losses = df_results.join(last_place_per_race,\n",
    "                         (df_results.raceId == last_place_per_race.raceId) &\n",
    "                         (df_results.positionOrder == last_place_per_race.last_pos),\n",
    "                         how=\"inner\") \\\n",
    "                   .groupBy(\"driverId\") \\\n",
    "                   .count() \\\n",
    "                   .orderBy(col(\"count\").desc())\n",
    "print(\"\\nQ5: Drivers with most last-place finishes\")\n",
    "losses.show(5)"
   ]
  },
  {
   "cell_type": "code",
   "execution_count": 0,
   "metadata": {
    "application/vnd.databricks.v1+cell": {
     "cellMetadata": {
      "byteLimit": 2048000,
      "rowLimit": 10000
     },
     "inputWidgets": {},
     "nuid": "f6ecb87a-dd96-45c9-85ee-09418da88e6f",
     "showTitle": false,
     "tableResultSettingsMap": {},
     "title": ""
    }
   },
   "outputs": [
    {
     "output_type": "stream",
     "name": "stdout",
     "output_type": "stream",
     "text": [
      "\nQ6: Average number of laps per driver\n+--------+-----------------+\n|driverId|         avg_laps|\n+--------+-----------------+\n|     829|51.44444444444444|\n|     853|             50.4|\n|       7|            51.04|\n|      51|           41.875|\n|      15|51.86610878661088|\n+--------+-----------------+\nonly showing top 5 rows\n\n"
     ]
    }
   ],
   "source": [
    "# Q6: Extra question: Average number of laps per driver\n",
    "lap_counts = df_lap_times.groupBy(\"raceId\", \"driverId\") \\\n",
    "                             .agg(countDistinct(\"lap\").alias(\"num_laps\"))\n",
    "avg_laps = lap_counts.groupBy(\"driverId\") \\\n",
    "                     .agg(avg(\"num_laps\").alias(\"avg_laps\"))\n",
    "print(\"\\nQ6: Average number of laps per driver\")\n",
    "avg_laps.show(5)\n"
   ]
  }
 ],
 "metadata": {
  "application/vnd.databricks.v1+notebook": {
   "computePreferences": null,
   "dashboards": [],
   "environmentMetadata": {
    "base_environment": "",
    "environment_version": "2"
   },
   "language": "python",
   "notebookMetadata": {
    "pythonIndentUnit": 4
   },
   "notebookName": "Homework #3-hh3110",
   "widgets": {}
  },
  "language_info": {
   "name": "python"
  }
 },
 "nbformat": 4,
 "nbformat_minor": 0
}